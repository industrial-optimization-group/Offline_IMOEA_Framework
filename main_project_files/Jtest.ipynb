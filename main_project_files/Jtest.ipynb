{
 "cells": [
  {
   "cell_type": "code",
   "execution_count": 1,
   "metadata": {},
   "outputs": [],
   "source": [
    "import sys\n",
    "sys.path.insert(1, '/home/amrzr/Work/Codes/Offline_IMOEA_Framework/')\n",
    "\n",
    "from desdeo_problem.Problem import DataProblem\n",
    "import pickle\n",
    "from desdeo_problem.testproblems.TestProblems import test_problem_builder\n",
    "import plotly.graph_objects as go\n",
    "import matplotlib.pyplot as plt\n",
    "import numpy as np\n",
    "import pandas as pd\n",
    "from main_project_files.surrogate_fullGP import FullGPRegressor as fgp\n",
    "from desdeo_problem.surrogatemodels.SurrogateModels import GaussianProcessRegressor\n",
    "from sklearn.gaussian_process.kernels import Matern\n",
    "from sklearn.ensemble import RandomForestClassifier\n",
    "\n",
    "#from pygmo import non_dominated_front_2d as nd2\n",
    "from other_tools.non_domx import ndx\n",
    "import scipy.io\n",
    "from sklearn.neighbors import NearestNeighbors\n",
    "import time\n",
    "import GPy\n",
    "#from BIOMA_framework import interactive_optimize\n",
    "from BIOMA_framework_worst import interactive_optimize\n",
    "from BIOMA_framework_worst import full_optimize\n",
    "import copy\n",
    "\n",
    "from scipy.stats import qmc"
   ]
  },
  {
   "cell_type": "code",
   "execution_count": 2,
   "metadata": {},
   "outputs": [
    {
     "name": "stdout",
     "output_type": "stream",
     "text": [
      "92\n"
     ]
    }
   ],
   "source": [
    "max_iters = 5 #5 #50\n",
    "gen_per_iter= 5 #10\n",
    "is_interact = False\n",
    "\n",
    "nobjs = 2\n",
    "nvars = 4 #4 #10 \n",
    "N = 450\n",
    "px=0.5 #0.0\n",
    "\n",
    "dtlz2 = test_problem_builder(\"DTLZ2\", n_of_objectives= nobjs, n_of_variables=nvars)\n",
    "sampler = qmc.LatinHypercube(d=nvars)\n",
    "dtlz_data = sampler.random(n=N)\n",
    "#dtlz_data = np.random.random((N,nvars))\n",
    "dtlz_obj_val = dtlz2.evaluate(dtlz_data)\n",
    "\n",
    "bound_val1=0.02\n",
    "bound_val2=0.68 #20: 0.94 #0.68 #10: 0.87 #4: 0.68\n",
    "bound1 = np.ones(nvars)*bound_val1\n",
    "bound1 = np.tile(bound1,(N,1))\n",
    "bound2 = np.ones(nvars)*bound_val2\n",
    "bound2 = np.tile(bound2,(N,1))\n",
    "failed_loc = np.where(np.all(dtlz_data >= bound1, axis=1) & np.all(dtlz_data <= bound2, axis=1))\n",
    "stat_success = np.ones((N,1))\n",
    "stat_success[failed_loc,0]=0\n",
    "\n",
    "obj_vals = dtlz_obj_val[0]\n",
    "obj_success = obj_vals[np.where(stat_success==1)[0],:]\n",
    "\n",
    "np.size(failed_loc)\n",
    "print(np.size(failed_loc))\n",
    "\n",
    "# # main_directory = 'Pump_Test_Tomas_2_140'\n",
    "data_folder = '/home/amrzr/Work/Codes/data'\n",
    "# path = data_folder + '/test_runs/' + main_directory\n",
    "# data_file = 'DOE_test_successful.csv'\n",
    "\n",
    "main_directory = 'DTLZ2_test'\n",
    "#data_folder = '/home/Jana/Pump/Offline/data'\n",
    "path = data_folder + '/test_runs/' + main_directory\n",
    "\n",
    "\n",
    "# model_file = 'Dataset_140'\n",
    "model_file = 'DTZL2'\n",
    "read_saved_models = True\n",
    "\n",
    "#selection_type = 'prob_only'  # proba\n",
    "#selection_type = 'prob_class_v1'\n",
    "selection_type = 'prob_class_v2'\n",
    "#selection_type = 'generic'\n",
    "\n",
    "\n",
    "x_low_new = np.ones(nvars)*0\n",
    "x_high_new = np.ones(nvars)\n",
    "\n",
    "def build_classification_failed():\n",
    "    X=dtlz_data\n",
    "    y=stat_success.flatten()\n",
    "    \n",
    "    labels = list(set(y.flatten()))\n",
    "    models = {}\n",
    "    for label in labels:\n",
    "        ytmp=y.copy()\n",
    "        ytmp[ytmp!=label]=0\n",
    "        ytmp[ytmp==label]=1\n",
    "        kernel = GPy.kern.Matern52(np.shape(X)[1], ARD=True)\n",
    "        m=GPy.models.GPClassification(X, ytmp[:, None], kernel=kernel)\n",
    "        \n",
    "        m.optimize_restarts(messages=False, robust=True, \n",
    "                            num_restarts=4\n",
    "                            )\n",
    "        #    else:\n",
    "        #        m.optimize(messages=True)\n",
    "        models[label]=m\n",
    "    return models[1]\n",
    "\n",
    "\n",
    "def run_optimizer_approach_interactive(problem, classification_model, path):\n",
    "    print(\"Optimizing...\")\n",
    "    evolver_opt = interactive_optimize(problem, classification_model, gen_per_iter, max_iters, path)\n",
    "    return evolver_opt.population\n",
    "\n",
    "def run_optimizer_approach_full(problem, classification_model, path, selection_type):\n",
    "    print(\"Optimizing...\")\n",
    "    evolver_opt = full_optimize(problem, classification_model, gen_per_iter, max_iters, path, selection_type)\n",
    "    return evolver_opt.population\n",
    "\n",
    "# def scale_data(data):\n",
    "#     x_data = np.asarray(data.loc[:,:'x22'])\n",
    "#     x_data_scaled = (x_data - x_low)/(np.asarray(x_high) - np.asarray(x_low))\n",
    "#     data.loc[:,:'x22'] = x_data_scaled\n",
    "#     return data\n",
    "\n",
    "def build_surrogates(nobjs, nvars, df): #x_data, y_data):\n",
    "    print(\"Building surrogates...\")\n",
    "    x_names = list(df.columns)[0:nvars] #J\n",
    "    y_names = list(df.columns)[nvars:nvars+nobjs] #J\n",
    "    row_names = ['lower_bound','upper_bound']\n",
    "    #data = pd.DataFrame(np.hstack((x_data,y_data)), columns=x_names+y_names)\n",
    "    data = df\n",
    "    print(data)\n",
    "\n",
    "    bounds = pd.DataFrame(np.vstack((x_low_new,x_high_new)), columns=x_names, index=row_names)\n",
    "    problem = DataProblem(data=df, variable_names=x_names, objective_names=y_names,bounds=bounds)\n",
    "    start = time.time()\n",
    "    problem.train(fgp)\n",
    "    #problem.train(GaussianProcessRegressor) #, {\"kernel\": Matern(nu=3/2)})\n",
    "    end = time.time()\n",
    "    time_taken = end - start\n",
    "    return problem"
   ]
  },
  {
   "cell_type": "code",
   "execution_count": 3,
   "metadata": {},
   "outputs": [
    {
     "name": "stdout",
     "output_type": "stream",
     "text": [
      "loaded saved models...\n",
      "Optimization restart 1/4, f = 2.0868770171509823\n",
      "Optimization restart 2/4, f = 9.563296338276075\n",
      "Optimization restart 3/4, f = 4.8598058934719575\n",
      "Optimization restart 4/4, f = 5.902516283105001\n",
      "Optimization restart 1/4, f = 117.5691388492126\n",
      "Optimization restart 2/4, f = 117.5206778411297\n",
      "Optimization restart 3/4, f = 118.0881505755774\n",
      "Optimization restart 4/4, f = 111.4409958761596\n",
      "Optimizing...\n",
      "Pop size: (100, 2)\n",
      "Class prob size: (100, 1)\n"
     ]
    },
    {
     "ename": "IndexError",
     "evalue": "index 0 is out of bounds for axis 0 with size 0",
     "output_type": "error",
     "traceback": [
      "\u001b[0;31m---------------------------------------------------------------------------\u001b[0m",
      "\u001b[0;31mIndexError\u001b[0m                                Traceback (most recent call last)",
      "\u001b[0;32m<ipython-input-3-292c4212f2b2>\u001b[0m in \u001b[0;36m<module>\u001b[0;34m\u001b[0m\n\u001b[1;32m     18\u001b[0m     \u001b[0mpopulation\u001b[0m \u001b[0;34m=\u001b[0m \u001b[0mrun_optimizer_approach_interactive\u001b[0m\u001b[0;34m(\u001b[0m\u001b[0msurrogate_problem\u001b[0m\u001b[0;34m,\u001b[0m \u001b[0mclassification_model\u001b[0m\u001b[0;34m,\u001b[0m \u001b[0mpath\u001b[0m\u001b[0;34m)\u001b[0m\u001b[0;34m\u001b[0m\u001b[0;34m\u001b[0m\u001b[0m\n\u001b[1;32m     19\u001b[0m \u001b[0;32melse\u001b[0m\u001b[0;34m:\u001b[0m\u001b[0;34m\u001b[0m\u001b[0;34m\u001b[0m\u001b[0m\n\u001b[0;32m---> 20\u001b[0;31m     \u001b[0mpopulation\u001b[0m \u001b[0;34m=\u001b[0m \u001b[0mrun_optimizer_approach_full\u001b[0m\u001b[0;34m(\u001b[0m\u001b[0msurrogate_problem\u001b[0m\u001b[0;34m,\u001b[0m \u001b[0mclassification_model\u001b[0m\u001b[0;34m,\u001b[0m \u001b[0mpath\u001b[0m\u001b[0;34m,\u001b[0m \u001b[0mselection_type\u001b[0m\u001b[0;34m)\u001b[0m\u001b[0;34m\u001b[0m\u001b[0;34m\u001b[0m\u001b[0m\n\u001b[0m\u001b[1;32m     21\u001b[0m \u001b[0;34m\u001b[0m\u001b[0m\n\u001b[1;32m     22\u001b[0m \u001b[0;34m\u001b[0m\u001b[0m\n",
      "\u001b[0;32m<ipython-input-2-7332dd41af35>\u001b[0m in \u001b[0;36mrun_optimizer_approach_full\u001b[0;34m(problem, classification_model, path, selection_type)\u001b[0m\n\u001b[1;32m     82\u001b[0m \u001b[0;32mdef\u001b[0m \u001b[0mrun_optimizer_approach_full\u001b[0m\u001b[0;34m(\u001b[0m\u001b[0mproblem\u001b[0m\u001b[0;34m,\u001b[0m \u001b[0mclassification_model\u001b[0m\u001b[0;34m,\u001b[0m \u001b[0mpath\u001b[0m\u001b[0;34m,\u001b[0m \u001b[0mselection_type\u001b[0m\u001b[0;34m)\u001b[0m\u001b[0;34m:\u001b[0m\u001b[0;34m\u001b[0m\u001b[0;34m\u001b[0m\u001b[0m\n\u001b[1;32m     83\u001b[0m     \u001b[0mprint\u001b[0m\u001b[0;34m(\u001b[0m\u001b[0;34m\"Optimizing...\"\u001b[0m\u001b[0;34m)\u001b[0m\u001b[0;34m\u001b[0m\u001b[0;34m\u001b[0m\u001b[0m\n\u001b[0;32m---> 84\u001b[0;31m     \u001b[0mevolver_opt\u001b[0m \u001b[0;34m=\u001b[0m \u001b[0mfull_optimize\u001b[0m\u001b[0;34m(\u001b[0m\u001b[0mproblem\u001b[0m\u001b[0;34m,\u001b[0m \u001b[0mclassification_model\u001b[0m\u001b[0;34m,\u001b[0m \u001b[0mgen_per_iter\u001b[0m\u001b[0;34m,\u001b[0m \u001b[0mmax_iters\u001b[0m\u001b[0;34m,\u001b[0m \u001b[0mpath\u001b[0m\u001b[0;34m,\u001b[0m \u001b[0mselection_type\u001b[0m\u001b[0;34m)\u001b[0m\u001b[0;34m\u001b[0m\u001b[0;34m\u001b[0m\u001b[0m\n\u001b[0m\u001b[1;32m     85\u001b[0m     \u001b[0;32mreturn\u001b[0m \u001b[0mevolver_opt\u001b[0m\u001b[0;34m.\u001b[0m\u001b[0mpopulation\u001b[0m\u001b[0;34m\u001b[0m\u001b[0;34m\u001b[0m\u001b[0m\n\u001b[1;32m     86\u001b[0m \u001b[0;34m\u001b[0m\u001b[0m\n",
      "\u001b[0;32m~/Work/Codes/Offline_IMOEA_Framework/main_project_files/BIOMA_framework_worst.py\u001b[0m in \u001b[0;36mfull_optimize\u001b[0;34m(problem, classification_model, gen_per_iter, max_iter, path, selection_type)\u001b[0m\n\u001b[1;32m     97\u001b[0m \u001b[0;34m\u001b[0m\u001b[0m\n\u001b[1;32m     98\u001b[0m     \u001b[0;32mwhile\u001b[0m \u001b[0mevolver_opt\u001b[0m\u001b[0;34m.\u001b[0m\u001b[0mcontinue_evolution\u001b[0m\u001b[0;34m(\u001b[0m\u001b[0;34m)\u001b[0m\u001b[0;34m:\u001b[0m\u001b[0;34m\u001b[0m\u001b[0;34m\u001b[0m\u001b[0m\n\u001b[0;32m---> 99\u001b[0;31m         \u001b[0mevolver_opt\u001b[0m\u001b[0;34m.\u001b[0m\u001b[0miterate\u001b[0m\u001b[0;34m(\u001b[0m\u001b[0;34m)\u001b[0m\u001b[0;34m\u001b[0m\u001b[0;34m\u001b[0m\u001b[0m\n\u001b[0m\u001b[1;32m    100\u001b[0m         \u001b[0mprint\u001b[0m\u001b[0;34m(\u001b[0m\u001b[0;34m\"Population size:\"\u001b[0m\u001b[0;34m,\u001b[0m\u001b[0mnp\u001b[0m\u001b[0;34m.\u001b[0m\u001b[0mshape\u001b[0m\u001b[0;34m(\u001b[0m\u001b[0mevolver_opt\u001b[0m\u001b[0;34m.\u001b[0m\u001b[0mpopulation\u001b[0m\u001b[0;34m.\u001b[0m\u001b[0mobjectives\u001b[0m\u001b[0;34m)\u001b[0m\u001b[0;34m[\u001b[0m\u001b[0;36m0\u001b[0m\u001b[0;34m]\u001b[0m\u001b[0;34m)\u001b[0m\u001b[0;34m\u001b[0m\u001b[0;34m\u001b[0m\u001b[0m\n\u001b[1;32m    101\u001b[0m     \u001b[0;32mreturn\u001b[0m \u001b[0mevolver_opt\u001b[0m\u001b[0;34m\u001b[0m\u001b[0;34m\u001b[0m\u001b[0m\n",
      "\u001b[0;32m~/Work/Codes/Offline_IMOEA_Framework/desdeo_emo/EAs/BaseEA.py\u001b[0m in \u001b[0;36miterate\u001b[0;34m(self, preference)\u001b[0m\n\u001b[1;32m     63\u001b[0m         \u001b[0mself\u001b[0m\u001b[0;34m.\u001b[0m\u001b[0m_gen_count_in_curr_iteration\u001b[0m \u001b[0;34m=\u001b[0m \u001b[0;36m0\u001b[0m\u001b[0;34m\u001b[0m\u001b[0;34m\u001b[0m\u001b[0m\n\u001b[1;32m     64\u001b[0m         \u001b[0;32mwhile\u001b[0m \u001b[0mself\u001b[0m\u001b[0;34m.\u001b[0m\u001b[0mcontinue_iteration\u001b[0m\u001b[0;34m(\u001b[0m\u001b[0;34m)\u001b[0m\u001b[0;34m:\u001b[0m\u001b[0;34m\u001b[0m\u001b[0;34m\u001b[0m\u001b[0m\n\u001b[0;32m---> 65\u001b[0;31m             \u001b[0mself\u001b[0m\u001b[0;34m.\u001b[0m\u001b[0m_next_gen\u001b[0m\u001b[0;34m(\u001b[0m\u001b[0;34m)\u001b[0m\u001b[0;34m\u001b[0m\u001b[0;34m\u001b[0m\u001b[0m\n\u001b[0m\u001b[1;32m     66\u001b[0m         \u001b[0mself\u001b[0m\u001b[0;34m.\u001b[0m\u001b[0m_iteration_counter\u001b[0m \u001b[0;34m+=\u001b[0m \u001b[0;36m1\u001b[0m\u001b[0;34m\u001b[0m\u001b[0;34m\u001b[0m\u001b[0m\n\u001b[1;32m     67\u001b[0m         \u001b[0;32mreturn\u001b[0m \u001b[0mself\u001b[0m\u001b[0;34m.\u001b[0m\u001b[0mrequests\u001b[0m\u001b[0;34m(\u001b[0m\u001b[0;34m)\u001b[0m\u001b[0;34m\u001b[0m\u001b[0;34m\u001b[0m\u001b[0m\n",
      "\u001b[0;32m~/Work/Codes/Offline_IMOEA_Framework/desdeo_emo/EAs/OfflineRVEAnew.py\u001b[0m in \u001b[0;36m_next_gen\u001b[0;34m(self)\u001b[0m\n\u001b[1;32m    292\u001b[0m             \u001b[0mself\u001b[0m\u001b[0;34m.\u001b[0m\u001b[0m_function_evaluation_count\u001b[0m \u001b[0;34m+=\u001b[0m \u001b[0moffspring\u001b[0m\u001b[0;34m.\u001b[0m\u001b[0mshape\u001b[0m\u001b[0;34m[\u001b[0m\u001b[0;36m0\u001b[0m\u001b[0;34m]\u001b[0m\u001b[0;34m\u001b[0m\u001b[0;34m\u001b[0m\u001b[0m\n\u001b[1;32m    293\u001b[0m         \u001b[0;31m#print(\"Pop size after recombination: \",np.shape(self.population.objectives)[0])\u001b[0m\u001b[0;34m\u001b[0m\u001b[0;34m\u001b[0m\u001b[0;34m\u001b[0m\u001b[0m\n\u001b[0;32m--> 294\u001b[0;31m         \u001b[0mselected\u001b[0m \u001b[0;34m=\u001b[0m \u001b[0mself\u001b[0m\u001b[0;34m.\u001b[0m\u001b[0m_select\u001b[0m\u001b[0;34m(\u001b[0m\u001b[0mself\u001b[0m\u001b[0;34m.\u001b[0m\u001b[0mclassification_probability\u001b[0m\u001b[0;34m)\u001b[0m\u001b[0;34m\u001b[0m\u001b[0;34m\u001b[0m\u001b[0m\n\u001b[0m\u001b[1;32m    295\u001b[0m         \u001b[0;31m#print(\"selected size:\",np.shape(selected)[0])\u001b[0m\u001b[0;34m\u001b[0m\u001b[0;34m\u001b[0m\u001b[0;34m\u001b[0m\u001b[0m\n\u001b[1;32m    296\u001b[0m         \u001b[0mself\u001b[0m\u001b[0;34m.\u001b[0m\u001b[0mpopulation\u001b[0m\u001b[0;34m.\u001b[0m\u001b[0mkeep\u001b[0m\u001b[0;34m(\u001b[0m\u001b[0mselected\u001b[0m\u001b[0;34m)\u001b[0m\u001b[0;34m\u001b[0m\u001b[0;34m\u001b[0m\u001b[0m\n",
      "\u001b[0;32m~/Work/Codes/Offline_IMOEA_Framework/desdeo_emo/EAs/OfflineRVEAnew.py\u001b[0m in \u001b[0;36m_select\u001b[0;34m(self, classification_probability)\u001b[0m\n\u001b[1;32m    299\u001b[0m \u001b[0;34m\u001b[0m\u001b[0m\n\u001b[1;32m    300\u001b[0m     \u001b[0;32mdef\u001b[0m \u001b[0m_select\u001b[0m\u001b[0;34m(\u001b[0m\u001b[0mself\u001b[0m\u001b[0;34m,\u001b[0m \u001b[0mclassification_probability\u001b[0m\u001b[0;34m)\u001b[0m \u001b[0;34m->\u001b[0m \u001b[0mlist\u001b[0m\u001b[0;34m:\u001b[0m\u001b[0;34m\u001b[0m\u001b[0;34m\u001b[0m\u001b[0m\n\u001b[0;32m--> 301\u001b[0;31m         \u001b[0;32mreturn\u001b[0m \u001b[0mself\u001b[0m\u001b[0;34m.\u001b[0m\u001b[0mselection_operator\u001b[0m\u001b[0;34m.\u001b[0m\u001b[0mdo\u001b[0m\u001b[0;34m(\u001b[0m\u001b[0mself\u001b[0m\u001b[0;34m.\u001b[0m\u001b[0mpopulation\u001b[0m\u001b[0;34m,\u001b[0m\u001b[0mself\u001b[0m\u001b[0;34m.\u001b[0m\u001b[0mreference_vectors\u001b[0m\u001b[0;34m,\u001b[0m\u001b[0mclassification_probability\u001b[0m\u001b[0;34m)\u001b[0m\u001b[0;34m\u001b[0m\u001b[0;34m\u001b[0m\u001b[0m\n\u001b[0m\u001b[1;32m    302\u001b[0m \u001b[0;34m\u001b[0m\u001b[0m\n\u001b[1;32m    303\u001b[0m \"\"\"\n",
      "\u001b[0;32m~/Work/Codes/Offline_IMOEA_Framework/desdeo_emo/selection/Prob_APD_Select_v2_pump.py\u001b[0m in \u001b[0;36mdo\u001b[0;34m(self, pop, vectors, classification_probability)\u001b[0m\n\u001b[1;32m    135\u001b[0m \u001b[0;34m\u001b[0m\u001b[0m\n\u001b[1;32m    136\u001b[0m \u001b[0;34m\u001b[0m\u001b[0m\n\u001b[0;32m--> 137\u001b[0;31m                 \u001b[0mminidx\u001b[0m \u001b[0;34m=\u001b[0m \u001b[0mnp\u001b[0m\u001b[0;34m.\u001b[0m\u001b[0mwhere\u001b[0m\u001b[0;34m(\u001b[0m\u001b[0mrank_apd\u001b[0m\u001b[0;34m[\u001b[0m\u001b[0;36m0\u001b[0m\u001b[0;34m]\u001b[0m \u001b[0;34m==\u001b[0m \u001b[0mnp\u001b[0m\u001b[0;34m.\u001b[0m\u001b[0mnanmin\u001b[0m\u001b[0;34m(\u001b[0m\u001b[0mrank_apd\u001b[0m\u001b[0;34m[\u001b[0m\u001b[0;36m0\u001b[0m\u001b[0;34m]\u001b[0m\u001b[0;34m)\u001b[0m\u001b[0;34m)\u001b[0m\u001b[0;34m\u001b[0m\u001b[0;34m\u001b[0m\u001b[0m\n\u001b[0m\u001b[1;32m    138\u001b[0m                 \u001b[0;31m#print(\"Id :\",minidx)\u001b[0m\u001b[0;34m\u001b[0m\u001b[0;34m\u001b[0m\u001b[0;34m\u001b[0m\u001b[0m\n\u001b[1;32m    139\u001b[0m                 \u001b[0;32mif\u001b[0m \u001b[0mnp\u001b[0m\u001b[0;34m.\u001b[0m\u001b[0misnan\u001b[0m\u001b[0;34m(\u001b[0m\u001b[0mapd\u001b[0m\u001b[0;34m)\u001b[0m\u001b[0;34m.\u001b[0m\u001b[0mall\u001b[0m\u001b[0;34m(\u001b[0m\u001b[0;34m)\u001b[0m\u001b[0;34m:\u001b[0m\u001b[0;34m\u001b[0m\u001b[0;34m\u001b[0m\u001b[0m\n",
      "\u001b[0;31mIndexError\u001b[0m: index 0 is out of bounds for axis 0 with size 0"
     ]
    }
   ],
   "source": [
    "data_scaled=pd.DataFrame(np.concatenate((dtlz_data[np.where(stat_success==1)[0],:], obj_success), axis=1))\n",
    "\n",
    "\n",
    "if read_saved_models:\n",
    "    data_file = data_folder+ '/test_runs/test_models/' + model_file\n",
    "    infile = open(data_file, 'rb')\n",
    "    results_data = pickle.load(infile)\n",
    "    infile.close()\n",
    "    surrogate_problem = results_data[\"surrogate_problem\"]\n",
    "    print(\"loaded saved models...\")\n",
    "else:\n",
    "    surrogate_problem = build_surrogates(nobjs, nvars, data_scaled)\n",
    "classification_model = build_classification_failed()\n",
    "#print(surrogate_problem.objectives[2]._model.predict(np.asarray(data_scaled.loc[0:1,:'x22'])))\n",
    "#print(surrogate_problem.objectives[2]._model.predict(np.asarray(x_low_new).reshape(1,-1)))\n",
    "#print(surrogate_problem.objectives[2]._model.predict(zz))\n",
    "if is_interact:\n",
    "    population = run_optimizer_approach_interactive(surrogate_problem, classification_model, path)\n",
    "else:\n",
    "    population = run_optimizer_approach_full(surrogate_problem, classification_model, path, selection_type)\n",
    "\n",
    "\n",
    "results_dict = {\n",
    "        'individual_archive': population.individuals_archive,\n",
    "        'objectives_archive': population.objectives_archive,\n",
    "        'uncertainty_archive': population.uncertainty_archive,\n",
    "        'individuals_solutions': population.individuals,\n",
    "        'obj_solutions': population.objectives,\n",
    "        'uncertainty_solutions': population.uncertainity                \n",
    "    }\n",
    "outfile = open(path+'/run_dtlz2', 'wb')\n",
    "pickle.dump(results_dict, outfile)\n",
    "outfile.close()\n",
    "\n",
    "\n",
    "if read_saved_models is False:\n",
    "    surrogate_problem_copy = copy.deepcopy(surrogate_problem)\n",
    "    #classification_model_copy = copy.deepcopy(classification_model)\n",
    "    models_dict = {\n",
    "            'surrogate_problem': surrogate_problem_copy\n",
    "            #'classification_model': classification_model_copy           \n",
    "        }\n",
    "\n",
    "    # path = data_folder + '/test_runs/Pump_models'\n",
    "    path = data_folder + '/test_runs/test_models'\n",
    "    outfile = open(path+'/' + model_file, 'wb')\n",
    "    pickle.dump(models_dict, outfile)\n",
    "    outfile.close()\n",
    "    "
   ]
  },
  {
   "cell_type": "code",
   "execution_count": 11,
   "metadata": {},
   "outputs": [
    {
     "data": {
      "image/png": "[encoded data removed]",
      "text/plain": [
       "<Figure size 432x288 with 1 Axes>"
      ]
     },
     "metadata": {
      "needs_background": "light"
     },
     "output_type": "display_data"
    }
   ],
   "source": [
    "plt.scatter(population.objectives[:,0],population.objectives[:,1])\n",
    "plt.show()"
   ]
  },
  {
   "cell_type": "code",
   "execution_count": null,
   "metadata": {},
   "outputs": [],
   "source": [
    "exactval=dtlz2.evaluate(population.individuals)\n",
    "# solval=population.objectives\n",
    "solval=exactval[0]\n",
    "\n",
    "par_where=ndx(solval)[0]\n",
    "nondom_population=population.individuals[par_where[0]]\n",
    "nondom_objectives=solval[par_where[0]]\n",
    "\n",
    "Bound1 = np.ones(nvars)*bound_val1\n",
    "Bound2 = np.ones(nvars)*bound_val2\n",
    "\n",
    "failed_loc_pop_nds= np.where(np.all(nondom_population>= Bound1, axis=1) & np.all(nondom_population <= Bound2, axis=1))\n",
    "stat_success_pop_all = np.ones((np.shape(nondom_population)[0],1))\n",
    "stat_success_pop_all[failed_loc_pop_nds,0]=0\n",
    "pop_success=nondom_population[np.where(stat_success_pop_all==1)[0],:]\n",
    "# obj_success_pop_all = population.objectives[np.where(stat_success_pop_all==1)[0],:]\n",
    "obj_success_pop_nds=dtlz2.evaluate(pop_success)[0]\n",
    "\n",
    "\n",
    "failed_loc_pop= np.where(np.all( nondom_population>= Bound1, axis=1) & np.all(nondom_population <= Bound2, axis=1))\n",
    "print(np.shape(failed_loc_pop))\n",
    "print(np.shape(nondom_population))\n",
    "\n",
    "\n",
    "#\n",
    "# pareto set\n",
    "dtlz_par = np.hstack((np.random.random((int(N), nobjs-1)),(np.ones((int(N),nvars-nobjs+1))*px)))\n",
    "failed_loc2 = np.where(np.all(dtlz_par >= bound1, axis=1) & np.all(dtlz_par <= bound2, axis=1))\n",
    "stat_success = np.ones((N,1))\n",
    "stat_success[failed_loc2,0]=0\n",
    "dtlz_par_val = dtlz2.evaluate(dtlz_par)\n",
    "par_vals = dtlz_par_val[0]\n",
    "obj_success = par_vals[np.where(stat_success==1)[0],:]"
   ]
  },
  {
   "cell_type": "code",
   "execution_count": 3,
   "metadata": {},
   "outputs": [
    {
     "data": {
      "image/png": "[encoded data removed]",
      "text/plain": [
       "<Figure size 432x288 with 1 Axes>"
      ]
     },
     "metadata": {
      "needs_background": "light"
     },
     "output_type": "display_data"
    }
   ],
   "source": [
    "# true pareto #\n",
    "plt.scatter(obj_success[:,0], obj_success[:,1],c='lightgray')\n",
    "plt.show()\n"
   ]
  },
  {
   "cell_type": "code",
   "execution_count": 2,
   "metadata": {},
   "outputs": [
    {
     "data": {
      "image/png": "[encoded data removed]",
      "text/plain": [
       "<Figure size 432x288 with 1 Axes>"
      ]
     },
     "metadata": {
      "needs_background": "light"
     },
     "output_type": "display_data"
    }
   ],
   "source": [
    "\n",
    "# solutions\n",
    "\n",
    "# plt.scatter(exactval[0][:,0], exactval[0][:,1],c='blue')\n",
    "# plt.show()\n",
    "\n",
    "# plt.scatter(population.objectives[:,0], population.objectives[:,1],c='blue')\n",
    "# plt.show()\n",
    "\n",
    "\n",
    "\n",
    "# nondominated solutions\n",
    "plt.scatter(nondom_objectives[:,0], nondom_objectives[:,1],c='red')\n",
    "plt.show()\n",
    "\n"
   ]
  },
  {
   "cell_type": "code",
   "execution_count": 4,
   "metadata": {},
   "outputs": [
    {
     "data": {
      "image/png": "[encoded data removed]",
      "text/plain": [
       "<Figure size 432x288 with 1 Axes>"
      ]
     },
     "metadata": {
      "needs_background": "light"
     },
     "output_type": "display_data"
    }
   ],
   "source": [
    "# good solutions\n",
    "plt.scatter(obj_success_pop_nds[:,0], obj_success_pop_nds[:,1],c='blue')\n",
    "plt.show()"
   ]
  },
  {
   "cell_type": "code",
   "execution_count": 12,
   "metadata": {},
   "outputs": [
    {
     "data": {
      "image/png": "[encoded data removed]",
      "text/plain": [
       "<Figure size 432x288 with 1 Axes>"
      ]
     },
     "metadata": {
      "needs_background": "light"
     },
     "output_type": "display_data"
    }
   ],
   "source": []
  },
  {
   "cell_type": "code",
   "execution_count": 15,
   "metadata": {},
   "outputs": [],
   "source": [
    "y=stat_success.flatten()\n",
    "labels = list(set(y.flatten()))"
   ]
  },
  {
   "cell_type": "code",
   "execution_count": 17,
   "metadata": {},
   "outputs": [
    {
     "data": {
      "text/plain": [
       "(array([[0.98077945],\n",
       "        [0.75532278],\n",
       "        [0.7025799 ],\n",
       "        [0.7020141 ],\n",
       "        [0.60819457],\n",
       "        [0.51375874],\n",
       "        [0.97965911],\n",
       "        [0.97789244],\n",
       "        [0.40736033],\n",
       "        [0.91719798],\n",
       "        [0.40234215],\n",
       "        [0.66456662],\n",
       "        [0.30218933],\n",
       "        [0.72539168],\n",
       "        [0.86298411],\n",
       "        [0.97749936],\n",
       "        [0.60892131],\n",
       "        [0.88746215],\n",
       "        [0.94715903],\n",
       "        [0.56547993],\n",
       "        [0.90976819],\n",
       "        [0.60669447],\n",
       "        [0.83171158],\n",
       "        [0.94728586],\n",
       "        [0.97367777],\n",
       "        [0.90894917],\n",
       "        [0.97725222],\n",
       "        [0.55614128],\n",
       "        [0.81373337],\n",
       "        [0.48468092],\n",
       "        [0.51828735],\n",
       "        [0.4272493 ],\n",
       "        [0.9815895 ],\n",
       "        [0.6816122 ],\n",
       "        [0.35494113],\n",
       "        [0.83404276],\n",
       "        [0.92735073],\n",
       "        [0.53927317],\n",
       "        [0.67286934],\n",
       "        [0.6002981 ],\n",
       "        [0.58877064],\n",
       "        [0.61547672],\n",
       "        [0.65000545],\n",
       "        [0.82039748],\n",
       "        [0.37882063],\n",
       "        [0.93479387],\n",
       "        [0.87314542],\n",
       "        [0.77028003],\n",
       "        [0.39047071],\n",
       "        [0.96388506]]),\n",
       " nan)"
      ]
     },
     "execution_count": 17,
     "metadata": {},
     "output_type": "execute_result"
    }
   ],
   "source": [
    "classification_model.predict(population.individuals) "
   ]
  }
 ],
 "metadata": {
  "interpreter": {
   "hash": "028c7f87acfbdb178a7022a58eb44a108388aec1adf9f33da0988a40eb97b9af"
  },
  "kernelspec": {
   "display_name": "Python 3.8.10 64-bit ('Offline_IMOEA_Framework': venv)",
   "language": "python",
   "name": "python3"
  },
  "language_info": {
   "codemirror_mode": {
    "name": "ipython",
    "version": 3
   },
   "file_extension": ".py",
   "mimetype": "text/x-python",
   "name": "python",
   "nbconvert_exporter": "python",
   "pygments_lexer": "ipython3",
   "version": "3.8.10"
  },
  "orig_nbformat": 4
 },
 "nbformat": 4,
 "nbformat_minor": 2
}
