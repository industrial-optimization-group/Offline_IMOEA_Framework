{
 "cells": [
  {
   "cell_type": "code",
   "execution_count": 1,
   "metadata": {},
   "outputs": [],
   "source": [
    "import sys\n",
    "sys.path.insert(1, '/home/amrzr/Work/Codes/Offline_IMOEA_Framework/')\n",
    "import main_project_files.plotting_tools.plot3d_confidence_v2 as plt_int3\n",
    "import pandas as pd\n",
    "import numpy as np\n",
    "from plotly.offline.offline import plot\n",
    "import plotly_express as ex\n",
    "import pickle\n",
    "import csv"
   ]
  },
  {
   "cell_type": "code",
   "execution_count": 6,
   "metadata": {},
   "outputs": [],
   "source": [
    "#data_folder = '/home/amrzr/Work/Codes/data/test_runs/Pump_test_140_probclass_1'\n",
    "#data_folder = '/home/amrzr/Work/Codes/data/test_runs/Pump_test_140_prob_1'\n",
    "\n",
    "data_folder = '/home/amrzr/Work/Codes/data/test_runs/'\n",
    "\n",
    "#main_directory = 'Pump_test_All_probclass_2'   # all samples including test runs\n",
    "#main_directory = 'Pump_test_140_probclass_2' \n",
    "#main_directory = 'Pump_test_01_03_04_probclass_1' # all DOE data\n",
    "#main_directory = 'Pump_test_04_DOE_prob_1'  # 487 samples\n",
    "#main_directory = 'Pump_test_04_DOE_prob_only_run1'  # 487 samples\n",
    "#main_directory = 'Pump_test_04_DOE_probclass_v1_run1'  # 487 samples\n",
    "main_directory = 'Pump_test_04_DOE_probclass_v2_run2'  # 487 samples\n",
    "#main_directory = 'Pump_test_04_DOE_generic_run1'  # 487 samples\n",
    "\n",
    "\n",
    "data_folder = data_folder + main_directory\n",
    "\n",
    "data_file = data_folder+'/run_pump'\n",
    "infile = open(data_file, 'rb')\n",
    "results_data = pickle.load(infile)\n",
    "infile.close()\n",
    "individuals = results_data[\"individuals_solutions\"]\n",
    "surrogate_objectives = results_data[\"obj_solutions\"]\n",
    "columns_objs = [\"f_\"+str(i+1) for i in range(3)]\n",
    "columns_dv = [\"x_\"+str(i+1) for i in range(22)]\n",
    "#individuals = np.vstack((individuals,np.ones(22)*0,np.ones(22)*1))\n",
    "#surrogate_objectives = np.vstack((surrogate_objectives,np.ones(3)*-105,np.ones(3)*-80))\n",
    "df_objs = pd.DataFrame(surrogate_objectives, columns=columns_objs)\n",
    "df_dv = pd.DataFrame(individuals, columns=columns_dv)\n",
    "#fig = ex.parallel_coordinates(df_dv)\n",
    "#plot(fig, filename= data_folder  + \"/DV.html\")\n",
    "#fig = ex.parallel_coordinates(df_objs)\n",
    "#plot(fig, filename= data_folder  + \"/OBJ.html\")"
   ]
  },
  {
   "cell_type": "code",
   "execution_count": 7,
   "metadata": {},
   "outputs": [],
   "source": [
    "path_to_file2 = data_folder + '/DV.csv'\n",
    "df_dv.to_csv(path_to_file2)\n",
    "path_to_file3 = data_folder + '/OBJ.csv'\n",
    "df_objs.to_csv(path_to_file3)"
   ]
  },
  {
   "cell_type": "code",
   "execution_count": 62,
   "metadata": {},
   "outputs": [],
   "source": [
    "data_folder = '/home/amrzr/Work/Codes/data/pump_data/data_compare'\n",
    "data_file_1 = data_folder+'/140DOE_prob_2_old.csv'\n",
    "data_file_2 = data_folder+'/140DOE_prob_2_new_run2.csv'\n",
    "data_file_3 = data_folder+'/140DOE_prob_2_new_run4.csv'\n",
    "df_1 = pd.read_csv(data_file_1)\n",
    "df_2 = pd.read_csv(data_file_2)\n",
    "df_3 = pd.read_csv(data_file_3)"
   ]
  },
  {
   "cell_type": "code",
   "execution_count": 63,
   "metadata": {},
   "outputs": [],
   "source": [
    "low=np.hstack((np.ones(22)*0,np.ones(3)*-100))\n",
    "high=np.hstack((np.ones(22)*1,np.ones(3)*-80))\n",
    "low_series = pd.Series(low, index = df_1.columns)\n",
    "high_series = pd.Series(high, index = df_1.columns)\n",
    "df_1=df_1.append(low_series, ignore_index = True)\n",
    "df_1=df_1.append(high_series, ignore_index = True)\n",
    "df_2=df_2.append(low_series, ignore_index = True)\n",
    "df_2=df_2.append(high_series, ignore_index = True)\n",
    "df_3=df_3.append(low_series, ignore_index = True)\n",
    "df_3=df_3.append(high_series, ignore_index = True)\n",
    "df_1_dv = df_1.iloc[:,0:22]\n",
    "df_1_objs = df_1.iloc[:,22:]\n",
    "df_2_dv = df_2.iloc[:,0:22]\n",
    "df_2_objs = df_2.iloc[:,22:]\n",
    "df_3_dv = df_3.iloc[:,0:22]\n",
    "df_3_objs = df_3.iloc[:,22:]"
   ]
  },
  {
   "cell_type": "code",
   "execution_count": 64,
   "metadata": {},
   "outputs": [
    {
     "data": {
      "text/plain": [
       "'/home/amrzr/Work/Codes/data/pump_data/data_compare/OBJ_new2.html'"
      ]
     },
     "execution_count": 64,
     "metadata": {},
     "output_type": "execute_result"
    }
   ],
   "source": [
    "fig = ex.parallel_coordinates(df_1_dv)\n",
    "plot(fig, filename= data_folder  + \"/DV_old.html\")\n",
    "fig = ex.parallel_coordinates(df_1_objs)\n",
    "plot(fig, filename= data_folder  + \"/OBJ_old.html\")\n",
    "fig = ex.parallel_coordinates(df_2_dv)\n",
    "plot(fig, filename= data_folder  + \"/DV_new.html\")\n",
    "fig = ex.parallel_coordinates(df_2_objs)\n",
    "plot(fig, filename= data_folder  + \"/OBJ_new.html\")\n",
    "fig = ex.parallel_coordinates(df_3_dv)\n",
    "plot(fig, filename= data_folder  + \"/DV_new2.html\")\n",
    "fig = ex.parallel_coordinates(df_3_objs)\n",
    "plot(fig, filename= data_folder  + \"/OBJ_new2.html\")"
   ]
  }
 ],
 "metadata": {
  "interpreter": {
   "hash": "028c7f87acfbdb178a7022a58eb44a108388aec1adf9f33da0988a40eb97b9af"
  },
  "kernelspec": {
   "display_name": "Python 3.8.10 64-bit ('Offline_IMOEA_Framework': venv)",
   "language": "python",
   "name": "python3"
  },
  "language_info": {
   "codemirror_mode": {
    "name": "ipython",
    "version": 3
   },
   "file_extension": ".py",
   "mimetype": "text/x-python",
   "name": "python",
   "nbconvert_exporter": "python",
   "pygments_lexer": "ipython3",
   "version": "3.8.10"
  },
  "orig_nbformat": 4
 },
 "nbformat": 4,
 "nbformat_minor": 2
}
