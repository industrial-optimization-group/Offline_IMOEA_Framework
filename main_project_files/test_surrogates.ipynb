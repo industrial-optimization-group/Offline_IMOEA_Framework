{
 "cells": [
  {
   "cell_type": "code",
   "execution_count": 1,
   "metadata": {},
   "outputs": [],
   "source": [
    "import sys\n",
    "sys.path.insert(1, '/home/amrzr/Work/Codes/Offline_IMOEA_Framework/')\n",
    "\n",
    "from desdeo_problem.Problem import DataProblem\n",
    "from main_project_files.surrogate_fullGP import FullGPRegressor as fgp\n",
    "from main_project_files.surrogate_SVR import SVRsurrogate\n",
    "from main_project_files.surrogate_RandomForest import RandomForest\n",
    "from main_project_files.surrogate_PolynomialRegression import PolynomialRegressionsurrogate as polyreg\n",
    "from sklearn.model_selection import KFold, LeaveOneOut\n",
    "import time\n",
    "import numpy as np\n",
    "import pandas as pd"
   ]
  },
  {
   "cell_type": "code",
   "execution_count": 2,
   "metadata": {},
   "outputs": [],
   "source": [
    "nobjs = 3 \n",
    "nvars = 22\n",
    "\n",
    "main_directory = 'Pump_Test_Tomas_6_177'\n",
    "data_folder = '/home/amrzr/Work/Codes/data'\n",
    "#data_file = data_folder+'/pump_data/01_DOE_data.csv'\n",
    "#data_file = data_folder+'/pump_data/02_DOE_140_data.csv'\n",
    "data_file = data_folder+'/pump_data/initial_all_amz.csv'\n",
    "#data_file = data_folder+'/pump_data/03_DOE_140_all_data.csv'\n",
    "path = data_folder + '/test_runs/' + main_directory\n",
    "\n",
    "df = pd.read_csv(data_file)\n",
    "df[['f1','f2','f3']] = df[['f1','f2','f3']]*-1\n",
    "\n",
    "#x_low = np.min(zz,axis=0)\n",
    "#x_high = np.max(zz,axis=0)\n",
    "#x_low = [20, 0.2, 0.22, 0.25, -5, 85, 355, 450, 15, 15, -10, 16, 0.25, 0.2, 0.25, -5, 85, 450, 15, 15, 27, -15]\n",
    "#x_high = [30,0.72, 0.76 , 0.8 , 0 , 90, 380 , 600, 45 , 50,10 , 26, 0.76, 0.7 ,0.76, 0 ,90 ,600 ,60 ,50 ,35 ,5]\n",
    "x_low = np.ones(22)*0\n",
    "x_high = np.ones(22)\n",
    "x_names = list(df.columns)[0:22]\n",
    "y_names = list(df.columns)[22:25]\n",
    "row_names = ['lower_bound','upper_bound']\n",
    "\n",
    "bounds = pd.DataFrame(np.vstack((x_low,x_high)), columns=x_names, index=row_names)\n"
   ]
  },
  {
   "cell_type": "code",
   "execution_count": 17,
   "metadata": {},
   "outputs": [],
   "source": [
    "def K_fold_test_surrogate(df, surrogate):\n",
    "    splits=10\n",
    "    kf=KFold(n_splits=splits,shuffle=True,random_state=5)\n",
    "    M_RMSE=np.zeros([splits,3])\n",
    "    M_R2=np.zeros([splits,3])\n",
    "    i=0\n",
    "\n",
    "    for trainIndex, testIndex in kf.split(df):\n",
    "        # print(trainIndex, testIndex)\n",
    "        \n",
    "        dfTrain = df.loc[trainIndex, :]\n",
    "        dfTest = df.loc[testIndex, :]\n",
    "        xTest = dfTest.values[:,0:22]\n",
    "        N=len(dfTest)\n",
    "        Q_train = dfTrain[['f1','f2','f3']]\n",
    "        Q_test = dfTest[['f1','f2','f3']]\n",
    "        Qminus_mean=Q_test-np.mean(Q_train,0)\n",
    "        ss_tot=np.diag(np.dot(Qminus_mean.T,Qminus_mean))\n",
    "        #print(\"sstot=\",ss_tot)\n",
    "        problem = DataProblem(data=dfTrain, variable_names=x_names, objective_names=y_names,bounds=bounds)\n",
    "        problem.train(surrogate)\n",
    "\n",
    "        Y_pred = problem.evaluate(xTest,use_surrogate=True)[0]\n",
    "            \n",
    "        surr_error=np.abs(Y_pred-dfTest[['f1','f2','f3']])\n",
    "        #print('surrogate error is',surr_error)\n",
    "        ss_res=np.diag(np.dot(surr_error.T,surr_error))\n",
    "        #print(\"ss_res=\",ss_res)\n",
    "        RMSE=np.sqrt(ss_res/N)\n",
    "        print('RMSE_surr:',RMSE)\n",
    "        print('RMSE_mean:',np.sqrt(ss_tot/N))\n",
    "        M_RMSE[i,:]=RMSE\n",
    "        R2score=1-ss_res/ss_tot\n",
    "        M_R2[i,:]=R2score\n",
    "        i=i+1\n",
    "    \n",
    "    avr_RMSE=np.median(M_RMSE,0)\n",
    "    print('median RMSE is',avr_RMSE)\n",
    "\n",
    "    avr_R2score=np.median(M_R2,0)\n",
    "    print('median R2score is',avr_R2score)\n"
   ]
  },
  {
   "cell_type": "code",
   "execution_count": 19,
   "metadata": {},
   "outputs": [
    {
     "name": "stdout",
     "output_type": "stream",
     "text": [
      "RMSE_surr: [1.67450895 2.90011692 5.65369653]\n",
      "RMSE_mean: [2.04949988 2.39989052 3.20129991]\n",
      "RMSE_surr: [1.60954954 1.85881573 2.41103309]\n",
      "RMSE_mean: [2.23616046 2.07340095 2.80755374]\n",
      "RMSE_surr: [2.19165649 4.60561487 5.38103344]\n",
      "RMSE_mean: [2.76620187 3.53747963 4.69945213]\n",
      "RMSE_surr: [1.48190675 2.12854794 3.43027099]\n",
      "RMSE_mean: [1.80336703 2.054977   3.84262812]\n",
      "RMSE_surr: [1.30505737 3.0625023  4.55636747]\n",
      "RMSE_mean: [1.86261814 3.3013212  5.7595041 ]\n",
      "RMSE_surr: [ 3.36879275  7.24567039 13.03340953]\n",
      "RMSE_mean: [ 3.29841631  7.30344686 14.00808468]\n",
      "RMSE_surr: [1.40114319 1.8694312  2.52070395]\n",
      "RMSE_mean: [1.88984332 2.27983494 3.67968964]\n",
      "RMSE_surr: [1.67844002 2.31474959 3.3138699 ]\n",
      "RMSE_mean: [2.00754168 2.76316814 4.85404412]\n",
      "RMSE_surr: [1.29913053 2.40032597 3.79234931]\n",
      "RMSE_mean: [1.15791211 2.80615794 5.63387542]\n",
      "RMSE_surr: [1.16076888 1.51894305 2.4782934 ]\n",
      "RMSE_mean: [1.49550852 1.78104612 2.48668486]\n",
      "median RMSE is [1.54572814 2.35753778 3.61131015]\n",
      "median R2score is [0.35236043 0.16786262 0.23281343]\n"
     ]
    }
   ],
   "source": [
    "K_fold_test_surrogate(df, RandomForest)"
   ]
  },
  {
   "cell_type": "code",
   "execution_count": 18,
   "metadata": {},
   "outputs": [
    {
     "name": "stdout",
     "output_type": "stream",
     "text": [
      "RMSE_surr: [1.53248451 2.23647845 2.85873719]\n",
      "RMSE_mean: [2.04949988 2.39989052 3.20129991]\n",
      "RMSE_surr: [1.71261399 1.626558   2.03932818]\n",
      "RMSE_mean: [2.23616046 2.07340095 2.80755374]\n",
      "RMSE_surr: [2.02880212 3.13774407 4.44281426]\n",
      "RMSE_mean: [2.76620187 3.53747963 4.69945213]\n",
      "RMSE_surr: [1.16519655 2.10392096 3.56344271]\n",
      "RMSE_mean: [1.80336703 2.054977   3.84262812]\n",
      "RMSE_surr: [1.24609637 3.11290232 5.17634752]\n",
      "RMSE_mean: [1.86261814 3.3013212  5.7595041 ]\n",
      "RMSE_surr: [ 3.1703217   7.22208347 13.85620855]\n",
      "RMSE_mean: [ 3.29841631  7.30344686 14.00808468]\n",
      "RMSE_surr: [1.3653195  1.70447222 2.26633685]\n",
      "RMSE_mean: [1.88984332 2.27983494 3.67968964]\n",
      "RMSE_surr: [1.53497805 2.48583719 4.68129212]\n",
      "RMSE_mean: [2.00754168 2.76316814 4.85404412]\n",
      "RMSE_surr: [0.95445637 2.58866289 5.09446389]\n",
      "RMSE_mean: [1.15791211 2.80615794 5.63387542]\n",
      "RMSE_surr: [1.00067596 1.26701347 1.50740774]\n",
      "RMSE_mean: [1.49550852 1.78104612 2.48668486]\n",
      "median RMSE is [1.448902   2.36115782 4.00312848]\n",
      "median R2score is [0.45148931 0.16983298 0.18728611]\n"
     ]
    }
   ],
   "source": [
    "K_fold_test_surrogate(df, SVRsurrogate)"
   ]
  },
  {
   "cell_type": "code",
   "execution_count": 20,
   "metadata": {},
   "outputs": [
    {
     "name": "stdout",
     "output_type": "stream",
     "text": [
      "RMSE_surr: [1.19342519 2.17507515 3.27377559]\n",
      "RMSE_mean: [2.04949988 2.39989052 3.20129991]\n",
      "RMSE_surr: [1.60311774 2.4958465  4.7583968 ]\n",
      "RMSE_mean: [2.23616046 2.07340095 2.80755374]\n",
      "RMSE_surr: [1.5796401  2.65740014 4.21763073]\n",
      "RMSE_mean: [2.76620187 3.53747963 4.69945213]\n",
      "RMSE_surr: [1.05888154 1.89536185 4.01147187]\n",
      "RMSE_mean: [1.80336703 2.054977   3.84262812]\n",
      "RMSE_surr: [1.61866539 2.63333512 3.82173906]\n",
      "RMSE_mean: [1.86261814 3.3013212  5.7595041 ]\n",
      "RMSE_surr: [ 3.01282545  6.02217496 12.11926907]\n",
      "RMSE_mean: [ 3.29841631  7.30344686 14.00808468]\n",
      "RMSE_surr: [ 2.92440504  4.99394996 10.81625554]\n",
      "RMSE_mean: [1.88984332 2.27983494 3.67968964]\n",
      "RMSE_surr: [1.75315767 2.79004749 4.73152937]\n",
      "RMSE_mean: [2.00754168 2.76316814 4.85404412]\n",
      "RMSE_surr: [1.5615742  3.02206529 4.09941836]\n",
      "RMSE_mean: [1.15791211 2.80615794 5.63387542]\n",
      "RMSE_surr: [1.02927133 2.19411956 2.9433182 ]\n",
      "RMSE_mean: [1.49550852 1.78104612 2.48668486]\n",
      "median RMSE is [1.59137892 2.64536763 4.15852454]\n",
      "median R2score is [0.36541867 0.06488093 0.00202548]\n"
     ]
    }
   ],
   "source": [
    "K_fold_test_surrogate(df, polyreg)"
   ]
  },
  {
   "cell_type": "code",
   "execution_count": 21,
   "metadata": {},
   "outputs": [
    {
     "name": "stderr",
     "output_type": "stream",
     "text": [
      " /home/amrzr/Work/Codes/.venvs/Offline_IMOEA_Framework/lib/python3.8/site-packages/GPy/kern/src/stationary.py:137: RuntimeWarning:overflow encountered in square\n",
      " /home/amrzr/Work/Codes/.venvs/Offline_IMOEA_Framework/lib/python3.8/site-packages/GPy/kern/src/stationary.py:138: RuntimeWarning:invalid value encountered in add\n"
     ]
    },
    {
     "name": "stdout",
     "output_type": "stream",
     "text": [
      "RMSE_surr: [1.3115541  2.52833615 3.46295301]\n",
      "RMSE_mean: [2.04949988 2.39989052 3.20129991]\n",
      "RMSE_surr: [1.7283015  2.61538864 4.63778658]\n",
      "RMSE_mean: [2.23616046 2.07340095 2.80755374]\n",
      "RMSE_surr: [2.05098191 2.53665156 3.07963224]\n",
      "RMSE_mean: [2.76620187 3.53747963 4.69945213]\n",
      "RMSE_surr: [1.82808228 1.75247493 2.48540272]\n",
      "RMSE_mean: [1.80336703 2.054977   3.84262812]\n",
      "RMSE_surr: [1.36547446 2.2705557  3.47959545]\n",
      "RMSE_mean: [1.86261814 3.3013212  5.7595041 ]\n",
      "RMSE_surr: [ 3.29477422  6.4389054  12.07084635]\n",
      "RMSE_mean: [ 3.29841631  7.30344686 14.00808468]\n",
      "RMSE_surr: [1.59382243 1.64852201 4.62998678]\n",
      "RMSE_mean: [1.88984332 2.27983494 3.67968964]\n",
      "RMSE_surr: [1.80468682 2.89090958 3.35575035]\n",
      "RMSE_mean: [2.00754168 2.76316814 4.85404412]\n",
      "RMSE_surr: [1.60277596 2.64764284 2.4966542 ]\n",
      "RMSE_mean: [1.15791211 2.80615794 5.63387542]\n",
      "RMSE_surr: [1.23816944 1.69314832 3.04631721]\n",
      "RMSE_mean: [1.49550852 1.78104612 2.48668486]\n",
      "median RMSE is [1.66553873 2.53249385 3.40935168]\n",
      "median R2score is [0.30163989 0.16626103 0.38976249]\n"
     ]
    }
   ],
   "source": [
    "K_fold_test_surrogate(df, fgp)"
   ]
  },
  {
   "cell_type": "code",
   "execution_count": 3,
   "metadata": {},
   "outputs": [],
   "source": [
    "import GPy\n",
    "import numpy as np\n",
    "import pandas as pd"
   ]
  },
  {
   "cell_type": "code",
   "execution_count": 4,
   "metadata": {},
   "outputs": [
    {
     "data": {
      "application/vnd.jupyter.widget-view+json": {
       "model_id": "a63c45423d744798ae93bba30f6d4205",
       "version_major": 2,
       "version_minor": 0
      },
      "text/plain": [
       "HBox(children=(VBox(children=(IntProgress(value=0, max=1000), HTML(value=''))), Box(children=(HTML(value=''),)…"
      ]
     },
     "metadata": {},
     "output_type": "display_data"
    },
    {
     "name": "stdout",
     "output_type": "stream",
     "text": [
      "Optimization restart 1/5, f = -0.36771524762052366\n"
     ]
    },
    {
     "data": {
      "application/vnd.jupyter.widget-view+json": {
       "model_id": "cb0c9190e72c4715b7f936f200f47ed9",
       "version_major": 2,
       "version_minor": 0
      },
      "text/plain": [
       "HBox(children=(VBox(children=(IntProgress(value=0, max=1000), HTML(value=''))), Box(children=(HTML(value=''),)…"
      ]
     },
     "metadata": {},
     "output_type": "display_data"
    },
    {
     "name": "stdout",
     "output_type": "stream",
     "text": [
      "Optimization restart 2/5, f = 8.2614477359\n"
     ]
    },
    {
     "data": {
      "application/vnd.jupyter.widget-view+json": {
       "model_id": "b170988922c24c07a707d7ce4d04dbbe",
       "version_major": 2,
       "version_minor": 0
      },
      "text/plain": [
       "HBox(children=(VBox(children=(IntProgress(value=0, max=1000), HTML(value=''))), Box(children=(HTML(value=''),)…"
      ]
     },
     "metadata": {},
     "output_type": "display_data"
    },
    {
     "name": "stdout",
     "output_type": "stream",
     "text": [
      "Optimization restart 3/5, f = -2.2046470346533624\n"
     ]
    },
    {
     "data": {
      "application/vnd.jupyter.widget-view+json": {
       "model_id": "ad62d632a87a41308fa22834239dea07",
       "version_major": 2,
       "version_minor": 0
      },
      "text/plain": [
       "HBox(children=(VBox(children=(IntProgress(value=0, max=1000), HTML(value=''))), Box(children=(HTML(value=''),)…"
      ]
     },
     "metadata": {},
     "output_type": "display_data"
    },
    {
     "name": "stdout",
     "output_type": "stream",
     "text": [
      "Optimization restart 4/5, f = -0.1990939841175532\n"
     ]
    },
    {
     "data": {
      "application/vnd.jupyter.widget-view+json": {
       "model_id": "b2e80d50436f41e7bd35bd0bc78c8709",
       "version_major": 2,
       "version_minor": 0
      },
      "text/plain": [
       "HBox(children=(VBox(children=(IntProgress(value=0, max=1000), HTML(value=''))), Box(children=(HTML(value=''),)…"
      ]
     },
     "metadata": {},
     "output_type": "display_data"
    },
    {
     "name": "stdout",
     "output_type": "stream",
     "text": [
      "Optimization restart 5/5, f = 13.047525346102873\n"
     ]
    },
    {
     "data": {
      "application/vnd.jupyter.widget-view+json": {
       "model_id": "511810b081bd4bbb9993dfe73959a524",
       "version_major": 2,
       "version_minor": 0
      },
      "text/plain": [
       "HBox(children=(VBox(children=(IntProgress(value=0, max=1000), HTML(value=''))), Box(children=(HTML(value=''),)…"
      ]
     },
     "metadata": {},
     "output_type": "display_data"
    },
    {
     "name": "stdout",
     "output_type": "stream",
     "text": [
      "Optimization restart 1/5, f = 85.93401686989367\n"
     ]
    },
    {
     "data": {
      "application/vnd.jupyter.widget-view+json": {
       "model_id": "9db06e78f4e74c168269f35f912c37e5",
       "version_major": 2,
       "version_minor": 0
      },
      "text/plain": [
       "HBox(children=(VBox(children=(IntProgress(value=0, max=1000), HTML(value=''))), Box(children=(HTML(value=''),)…"
      ]
     },
     "metadata": {},
     "output_type": "display_data"
    },
    {
     "name": "stdout",
     "output_type": "stream",
     "text": [
      "Optimization restart 2/5, f = 124.76649250079018\n"
     ]
    },
    {
     "data": {
      "application/vnd.jupyter.widget-view+json": {
       "model_id": "5fe8994462424deb873523a4b7aa541b",
       "version_major": 2,
       "version_minor": 0
      },
      "text/plain": [
       "HBox(children=(VBox(children=(IntProgress(value=0, max=1000), HTML(value=''))), Box(children=(HTML(value=''),)…"
      ]
     },
     "metadata": {},
     "output_type": "display_data"
    },
    {
     "name": "stdout",
     "output_type": "stream",
     "text": [
      "Optimization restart 3/5, f = 82.74297028193396\n"
     ]
    },
    {
     "data": {
      "application/vnd.jupyter.widget-view+json": {
       "model_id": "51e2272a8c5c4469adb294fa2e618397",
       "version_major": 2,
       "version_minor": 0
      },
      "text/plain": [
       "HBox(children=(VBox(children=(IntProgress(value=0, max=1000), HTML(value=''))), Box(children=(HTML(value=''),)…"
      ]
     },
     "metadata": {},
     "output_type": "display_data"
    },
    {
     "name": "stdout",
     "output_type": "stream",
     "text": [
      "Optimization restart 4/5, f = 87.99308297767817\n"
     ]
    },
    {
     "data": {
      "application/vnd.jupyter.widget-view+json": {
       "model_id": "f263ba333ffa42a5bc66491ee385357a",
       "version_major": 2,
       "version_minor": 0
      },
      "text/plain": [
       "HBox(children=(VBox(children=(IntProgress(value=0, max=1000), HTML(value=''))), Box(children=(HTML(value=''),)…"
      ]
     },
     "metadata": {},
     "output_type": "display_data"
    },
    {
     "name": "stdout",
     "output_type": "stream",
     "text": [
      "Optimization restart 5/5, f = 89.99055457001698\n"
     ]
    }
   ],
   "source": [
    "\n",
    "main_directory = 'Pump_Test_Tomas_6_177'\n",
    "data_folder = '/home/amrzr/Work/Codes/data'\n",
    "#data_file = data_folder+'/pump_data/sim_stat2.csv'\n",
    "data_file = data_folder+'/pump_data/03_DOE_180_failed.csv'\n",
    "df = pd.read_csv(data_file)   \n",
    "X=df.values[:,0:22]\n",
    "y=df.values[:,22]\n",
    "\n",
    "labels = list(set(y.flatten()))\n",
    "models = {}\n",
    "for label in labels:\n",
    "    ytmp=y.copy()\n",
    "    ytmp[ytmp!=label]=0\n",
    "    ytmp[ytmp==label]=1\n",
    "    \n",
    "    m=GPy.models.GPClassification(X, ytmp[:, None])\n",
    "    \n",
    "    m.optimize_restarts(messages=True, robust=True, \n",
    "                        num_restarts=5)\n",
    "    #    else:\n",
    "    #        m.optimize(messages=True)\n",
    "    models[label]=m\n"
   ]
  },
  {
   "cell_type": "code",
   "execution_count": 10,
   "metadata": {},
   "outputs": [
    {
     "data": {
      "text/plain": [
       "array([[ True],\n",
       "       [ True],\n",
       "       [ True],\n",
       "       [ True],\n",
       "       [False],\n",
       "       [ True],\n",
       "       [ True],\n",
       "       [ True],\n",
       "       [False],\n",
       "       [ True],\n",
       "       [ True],\n",
       "       [ True],\n",
       "       [ True],\n",
       "       [ True],\n",
       "       [ True],\n",
       "       [ True],\n",
       "       [ True],\n",
       "       [ True],\n",
       "       [ True],\n",
       "       [False],\n",
       "       [False],\n",
       "       [ True],\n",
       "       [ True],\n",
       "       [ True],\n",
       "       [ True],\n",
       "       [False],\n",
       "       [ True],\n",
       "       [ True],\n",
       "       [ True],\n",
       "       [False],\n",
       "       [ True],\n",
       "       [ True],\n",
       "       [False],\n",
       "       [False],\n",
       "       [ True],\n",
       "       [ True],\n",
       "       [ True],\n",
       "       [False],\n",
       "       [ True],\n",
       "       [ True],\n",
       "       [False],\n",
       "       [False],\n",
       "       [False],\n",
       "       [False],\n",
       "       [False],\n",
       "       [False],\n",
       "       [False],\n",
       "       [False],\n",
       "       [False],\n",
       "       [False],\n",
       "       [False],\n",
       "       [False],\n",
       "       [False],\n",
       "       [False],\n",
       "       [False],\n",
       "       [False],\n",
       "       [False],\n",
       "       [False],\n",
       "       [False],\n",
       "       [False],\n",
       "       [False],\n",
       "       [False],\n",
       "       [False],\n",
       "       [False],\n",
       "       [False],\n",
       "       [False],\n",
       "       [False],\n",
       "       [False],\n",
       "       [False],\n",
       "       [False],\n",
       "       [False],\n",
       "       [False],\n",
       "       [False],\n",
       "       [False],\n",
       "       [False],\n",
       "       [False],\n",
       "       [False],\n",
       "       [False],\n",
       "       [False],\n",
       "       [False],\n",
       "       [False],\n",
       "       [False],\n",
       "       [False],\n",
       "       [False],\n",
       "       [False],\n",
       "       [False],\n",
       "       [False],\n",
       "       [False],\n",
       "       [False],\n",
       "       [False],\n",
       "       [False],\n",
       "       [False],\n",
       "       [False],\n",
       "       [False],\n",
       "       [False],\n",
       "       [False],\n",
       "       [False],\n",
       "       [False],\n",
       "       [False],\n",
       "       [False],\n",
       "       [False],\n",
       "       [False],\n",
       "       [False],\n",
       "       [False],\n",
       "       [False],\n",
       "       [False],\n",
       "       [False],\n",
       "       [False],\n",
       "       [False],\n",
       "       [False],\n",
       "       [False],\n",
       "       [False],\n",
       "       [False],\n",
       "       [False],\n",
       "       [False],\n",
       "       [False],\n",
       "       [False],\n",
       "       [False],\n",
       "       [False],\n",
       "       [False],\n",
       "       [False],\n",
       "       [False],\n",
       "       [False],\n",
       "       [False],\n",
       "       [False],\n",
       "       [False],\n",
       "       [False],\n",
       "       [False],\n",
       "       [False],\n",
       "       [False],\n",
       "       [False],\n",
       "       [False],\n",
       "       [False],\n",
       "       [False],\n",
       "       [False],\n",
       "       [False],\n",
       "       [False],\n",
       "       [False],\n",
       "       [False],\n",
       "       [False],\n",
       "       [False],\n",
       "       [False],\n",
       "       [False],\n",
       "       [False],\n",
       "       [False],\n",
       "       [False],\n",
       "       [False],\n",
       "       [False],\n",
       "       [False],\n",
       "       [False],\n",
       "       [False],\n",
       "       [False],\n",
       "       [False],\n",
       "       [False],\n",
       "       [False],\n",
       "       [False],\n",
       "       [False],\n",
       "       [False],\n",
       "       [False],\n",
       "       [False],\n",
       "       [False],\n",
       "       [False],\n",
       "       [False],\n",
       "       [False],\n",
       "       [False],\n",
       "       [False],\n",
       "       [False],\n",
       "       [False],\n",
       "       [False],\n",
       "       [False],\n",
       "       [False],\n",
       "       [False],\n",
       "       [False],\n",
       "       [False],\n",
       "       [False],\n",
       "       [False],\n",
       "       [False],\n",
       "       [False],\n",
       "       [False],\n",
       "       [False]])"
      ]
     },
     "execution_count": 10,
     "metadata": {},
     "output_type": "execute_result"
    }
   ],
   "source": [
    "models[1].predict(X)[0]<0.5"
   ]
  }
 ],
 "metadata": {
  "interpreter": {
   "hash": "028c7f87acfbdb178a7022a58eb44a108388aec1adf9f33da0988a40eb97b9af"
  },
  "kernelspec": {
   "display_name": "Python 3.8.10 64-bit ('Offline_IMOEA_Framework': venv)",
   "name": "python3"
  },
  "language_info": {
   "codemirror_mode": {
    "name": "ipython",
    "version": 3
   },
   "file_extension": ".py",
   "mimetype": "text/x-python",
   "name": "python",
   "nbconvert_exporter": "python",
   "pygments_lexer": "ipython3",
   "version": "3.8.10"
  },
  "orig_nbformat": 4
 },
 "nbformat": 4,
 "nbformat_minor": 2
}
