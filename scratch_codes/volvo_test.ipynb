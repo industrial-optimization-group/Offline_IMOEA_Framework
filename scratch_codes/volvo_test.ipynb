import GPy
import numpy as np
import pandas as pd
from sklearn.ensemble import RandomForestClassifier
from sklearn.model_selection import train_test_split
from sklearn.metrics import confusion_matrix

main_directory = 'Pump_Test_Tomas_6_177'
data_folder = '/home/amrzr/Work/Codes/data'
data_file = data_folder+'/pump_data/new_results.csv'
path = data_folder + '/test_runs/' + main_directory
df = pd.read_csv(data_file)

X=df.values[:,0:22]
y=df.values[:,22]