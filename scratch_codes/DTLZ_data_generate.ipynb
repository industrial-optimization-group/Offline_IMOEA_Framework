{
 "cells": [
  {
   "cell_type": "code",
   "execution_count": 1,
   "metadata": {},
   "outputs": [],
   "source": [
    "import matplotlib.pyplot as plt\n",
    "import numpy as np\n",
    "import pandas as pd\n",
    "import sys\n",
    "sys.path.insert(1, '/home/amrzr/Work/Codes/Offline_IMOEA_Framework/')\n",
    "from desdeo_problem.testproblems.TestProblems import test_problem_builder\n",
    "from scipy.stats import qmc\n",
    "\n",
    "import copy\n",
    "import pickle\n",
    "import os"
   ]
  },
  {
   "cell_type": "code",
   "execution_count": 14,
   "metadata": {},
   "outputs": [],
   "source": [
    "data_folder = '/home/amrzr/Work/Codes/data'\n",
    "init_folder = data_folder + '/constraint_handling_dataset'\n",
    "file_instances = init_folder + '/test_instances.csv'\n",
    "data_instances = pd.read_csv(file_instances)\n",
    "problem_testbench = 'DTLZ'\n",
    "all_problems = data_instances[\"problem\"].values\n",
    "all_n_vars = data_instances[\"nvars\"].values\n",
    "all_objs = data_instances[\"K\"].values\n",
    "all_sample_size = data_instances[\"N\"].values\n",
    "all_ndim = data_instances[\"ndim\"].values\n",
    "all_bound_valL = data_instances[\"bound_valL\"].values\n",
    "all_bound_valU = data_instances[\"bound_valU\"].values\n",
    "size_instance = np.size(all_problems)\n",
    "boundoldL= 0 # for DTLZ\n",
    "boundoldU = 1\n",
    "nruns = 35\n",
    "path = data_folder+'/constraint_handling_dataset/' + problem_testbench "
   ]
  },
  {
   "cell_type": "code",
   "execution_count": 8,
   "metadata": {},
   "outputs": [],
   "source": [
    "\"\"\"\n",
    "# problem parameters\n",
    "problem_name = 'DTLZ2'\n",
    "nobjs = 2\n",
    "nvars = 5\n",
    "nruns = 35\n",
    "N = 250\n",
    "bound_valL=0.2\n",
    "bound_valU=0.9\n",
    "\n",
    "boundoldL= 0 # for DTLZ\n",
    "boundoldU = 1  \n",
    "ndim = nvars # nvars...for box constraints, 1,2...for dimensionwise constraints\n",
    "\n",
    "# end of parameters\n",
    "\"\"\""
   ]
  },
  {
   "cell_type": "code",
   "execution_count": 9,
   "metadata": {},
   "outputs": [],
   "source": [
    "\n",
    "\"\"\"data_folder = '/home/amrzr/Work/Codes/data'\n",
    "path = data_folder+'/constraint_handling_dataset/' + problem_testbench\n",
    "\n",
    "problem_spec ='tests_' + problem_name +'_'+ str(N) + '_' + str(nobjs) + '_' + \\\n",
    "    str(nvars) +  '_b'+str(ndim) +'_' + str(bound_valL).replace('.','') + \\\n",
    "        str(bound_valU).replace('.','')\n",
    " \"\"\""
   ]
  },
  {
   "cell_type": "code",
   "execution_count": 16,
   "metadata": {},
   "outputs": [],
   "source": [
    "for instance in range(size_instance):\n",
    "    prob = all_problems[instance]\n",
    "    n_vars = all_n_vars[instance]\n",
    "    obj = all_objs[instance]\n",
    "    sample_size = all_sample_size[instance]\n",
    "    ndim = all_ndim[instance]\n",
    "    bound_valL = all_bound_valL[instance]\n",
    "    bound_valU = all_bound_valU[instance]\n",
    "\n",
    "    problem_spec = prob +'_'+ str(sample_size) + '_' + str(obj) + '_' + \\\n",
    "        str(n_vars) +  '_b'+str(ndim) +'_' + str(bound_valL).replace('.','') + \\\n",
    "            str(bound_valU).replace('.','')\n",
    "\n",
    "    boundvecL = bound_valL* np.ones(n_vars)\n",
    "    boundvecU = bound_valU* np.ones(n_vars)\n",
    "    boundvecL = boundoldL* np.ones(n_vars)\n",
    "    boundvecU = boundoldU* np.ones(n_vars)\n",
    "    boundvecL[:ndim]=np.ones(ndim)*bound_valL\n",
    "    boundvecU[:ndim]=np.ones(ndim)*bound_valU\n",
    "    boundL = np.tile(boundvecL,(sample_size,1))\n",
    "    boundU = np.tile(boundvecU,(sample_size,1))\n",
    "\n",
    "\n",
    "    for run in range(nruns):\n",
    "        sampler = qmc.LatinHypercube(d=n_vars)\n",
    "        data = sampler.random(n=sample_size)*(boundoldU-(boundoldL)) + (boundoldL)\n",
    "        # print(data)\n",
    "\n",
    "        testproblem = test_problem_builder(prob, n_of_objectives= obj, n_of_variables=n_vars)\n",
    "        obj_val = testproblem.evaluate(data)\n",
    "\n",
    "\n",
    "        failed_loc = np.where(np.all(data >= boundL, axis=1) & np.all(data <= boundU, axis=1))\n",
    "        stat_success = np.ones((sample_size,1))\n",
    "        stat_success[failed_loc,0]=0\n",
    "\n",
    "        data_failed=data[failed_loc[0],:]\n",
    "        #ax.scatter(data_failed[:,0],data_failed[:,1],data_failed[:,2], c='black', marker=',')\n",
    "        obj_vals = obj_val[0]\n",
    "        obj_success = obj_vals[np.where(stat_success==1)[0],:]\n",
    "\n",
    "        #np.size(failed_loc)\n",
    "        #print(np.size(failed_loc))\n",
    "\n",
    "        data_class = pd.DataFrame(np.hstack((data, stat_success)))\n",
    "        data_success = pd.DataFrame(np.hstack((data[np.where(stat_success==1)[0],:],obj_success)))\n",
    "        data_all = pd.DataFrame(np.hstack((np.hstack((data, obj_vals)),stat_success)))\n",
    "\n",
    "        data_class.to_csv(path + '/' + problem_spec + '_'+ str(run)+ '_data_class.csv',index=False)\n",
    "        data_success.to_csv(path + '/' + problem_spec + '_'+ str(run) + '_data_success.csv',index=False)\n",
    "        data_all.to_csv(path + '/' + problem_spec  + '_'+ str(run) + '_data_all.csv',index=False)"
   ]
  }
 ],
 "metadata": {
  "interpreter": {
   "hash": "028c7f87acfbdb178a7022a58eb44a108388aec1adf9f33da0988a40eb97b9af"
  },
  "kernelspec": {
   "display_name": "Python 3.8.10 64-bit ('Offline_IMOEA_Framework': venv)",
   "language": "python",
   "name": "python3"
  },
  "language_info": {
   "codemirror_mode": {
    "name": "ipython",
    "version": 3
   },
   "file_extension": ".py",
   "mimetype": "text/x-python",
   "name": "python",
   "nbconvert_exporter": "python",
   "pygments_lexer": "ipython3",
   "version": "3.8.10"
  },
  "orig_nbformat": 4
 },
 "nbformat": 4,
 "nbformat_minor": 2
}
