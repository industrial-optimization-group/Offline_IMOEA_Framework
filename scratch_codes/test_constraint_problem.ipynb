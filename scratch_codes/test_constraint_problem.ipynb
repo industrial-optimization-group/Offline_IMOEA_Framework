{
 "cells": [
  {
   "cell_type": "code",
   "execution_count": 1,
   "metadata": {},
   "outputs": [],
   "source": [
    "import sys\n",
    "sys.path.insert(1, '/home/amrzr/Work/Codes/Offline_IMOEA_Framework/')\n",
    "from desdeo_problem.testproblems.TestProblems import test_problem_builder\n",
    "import numpy as np\n",
    "import matplotlib.pyplot as plt"
   ]
  },
  {
   "cell_type": "code",
   "execution_count": 2,
   "metadata": {},
   "outputs": [],
   "source": [
    "nobjs = 2\n",
    "nvars = 4\n",
    "N = 450\n",
    "px=0.5"
   ]
  },
  {
   "cell_type": "code",
   "execution_count": 3,
   "metadata": {},
   "outputs": [
    {
     "data": {
      "image/png": "[encoded data removed]",
      "text/plain": [
       "<Figure size 432x288 with 1 Axes>"
      ]
     },
     "metadata": {
      "needs_background": "light"
     },
     "output_type": "display_data"
    }
   ],
   "source": [
    "dtlz2 = test_problem_builder(\"DTLZ2\", n_of_objectives= nobjs, n_of_variables=nvars)\n",
    "dtlz_data2 = np.hstack((np.random.random((N, nobjs-1)),(np.ones((N,nvars-nobjs+1))*px))) \n",
    "dtlz_obj_val = dtlz2.evaluate(dtlz_data2)\n",
    "plt.scatter(dtlz_obj_val[0][:,0], dtlz_obj_val[0][:,1])\n",
    "plt.show()"
   ]
  },
  {
   "cell_type": "code",
   "execution_count": 11,
   "metadata": {},
   "outputs": [
    {
     "data": {
      "text/plain": [
       "array([[0.75154169, 0.81420842, 0.        , ..., 0.        , 0.        ,\n",
       "        0.        ],\n",
       "       [0.87196127, 0.09704193, 0.        , ..., 0.        , 0.        ,\n",
       "        0.        ],\n",
       "       [0.49321638, 0.14005447, 0.        , ..., 0.        , 0.        ,\n",
       "        0.        ],\n",
       "       ...,\n",
       "       [0.12448404, 0.19655926, 0.        , ..., 0.        , 0.        ,\n",
       "        0.        ],\n",
       "       [0.98452255, 0.69550441, 0.        , ..., 0.        , 0.        ,\n",
       "        0.        ],\n",
       "       [0.42083056, 0.78880413, 0.        , ..., 0.        , 0.        ,\n",
       "        0.        ]])"
      ]
     },
     "execution_count": 11,
     "metadata": {},
     "output_type": "execute_result"
    }
   ],
   "source": [
    "dtlz_data2 "
   ]
  },
  {
   "cell_type": "code",
   "execution_count": 4,
   "metadata": {},
   "outputs": [],
   "source": [
    "bound1 = np.hstack((np.ones(nobjs-1)*0.3,np.ones(nvars-nobjs+1)*px))\n",
    "bound1 = np.tile(bound1,(N,1))\n",
    "bound2 = np.hstack((np.ones(nobjs-1)*0.6,np.ones(nvars-nobjs+1)*px))\n",
    "bound2 = np.tile(bound2,(N,1))"
   ]
  },
  {
   "cell_type": "code",
   "execution_count": 5,
   "metadata": {},
   "outputs": [],
   "source": [
    "failed_loc = np.where(np.all(dtlz_data2 >= bound1, axis=1) & np.all(dtlz_data2 <= bound2, axis=1))\n",
    "stat_success = np.ones((N,1))\n",
    "stat_success[failed_loc,0]=0"
   ]
  },
  {
   "cell_type": "code",
   "execution_count": 6,
   "metadata": {},
   "outputs": [],
   "source": [
    "obj_vals = dtlz_obj_val[0]\n",
    "obj_success = obj_vals[np.where(stat_success==1)[0],:]"
   ]
  },
  {
   "cell_type": "code",
   "execution_count": 7,
   "metadata": {},
   "outputs": [
    {
     "data": {
      "image/png": "[encoded data removed]",
      "text/plain": [
       "<Figure size 432x288 with 1 Axes>"
      ]
     },
     "metadata": {
      "needs_background": "light"
     },
     "output_type": "display_data"
    }
   ],
   "source": [
    "plt.scatter(obj_success[:,0], obj_success[:,1])\n",
    "plt.show()"
   ]
  }
 ],
 "metadata": {
  "interpreter": {
   "hash": "028c7f87acfbdb178a7022a58eb44a108388aec1adf9f33da0988a40eb97b9af"
  },
  "kernelspec": {
   "display_name": "Python 3.8.10 64-bit ('Offline_IMOEA_Framework': venv)",
   "language": "python",
   "name": "python3"
  },
  "language_info": {
   "codemirror_mode": {
    "name": "ipython",
    "version": 3
   },
   "file_extension": ".py",
   "mimetype": "text/x-python",
   "name": "python",
   "nbconvert_exporter": "python",
   "pygments_lexer": "ipython3",
   "version": "3.8.10"
  },
  "orig_nbformat": 4
 },
 "nbformat": 4,
 "nbformat_minor": 2
}
