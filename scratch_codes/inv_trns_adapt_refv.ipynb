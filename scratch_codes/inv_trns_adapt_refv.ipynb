{
 "cells": [
  {
   "cell_type": "code",
   "execution_count": null,
   "metadata": {},
   "outputs": [],
   "source": [
    "import numpy as np\n",
    "from   scipy.stats import (multivariate_normal as mvn,\n",
    "                           norm)\n",
    "from   scipy.stats._multivariate import _squeeze_output\n",
    "\n",
    "class multivariate_skewnorm:\n",
    "    \n",
    "    def __init__(self, shape, cov=None):\n",
    "        self.dim   = len(shape)\n",
    "        self.shape = np.asarray(shape)\n",
    "        self.mean  = np.zeros(self.dim)\n",
    "        self.cov   = np.eye(self.dim) if cov is None else np.asarray(cov)\n",
    "\n",
    "    def pdf(self, x):\n",
    "        return np.exp(self.logpdf(x))\n",
    "        \n",
    "    def logpdf(self, x):\n",
    "        x    = mvn._process_quantiles(x, self.dim)\n",
    "        pdf  = mvn(self.mean, self.cov).logpdf(x)\n",
    "        cdf  = norm(0, 1).logcdf(np.dot(x, self.shape))\n",
    "        return _squeeze_output(np.log(2) + pdf + cdf)\n"
   ]
  },
  {
   "cell_type": "code",
   "execution_count": null,
   "metadata": {},
   "outputs": [],
   "source": []
  }
 ],
 "metadata": {
  "language_info": {
   "name": "python"
  },
  "orig_nbformat": 4
 },
 "nbformat": 4,
 "nbformat_minor": 2
}
